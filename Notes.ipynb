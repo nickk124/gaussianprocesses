{
 "cells": [
  {
   "cell_type": "code",
   "execution_count": 1,
   "metadata": {},
   "outputs": [],
   "source": [
    "import numpy as np"
   ]
  },
  {
   "cell_type": "code",
   "execution_count": 5,
   "metadata": {},
   "outputs": [],
   "source": [
    "# choose kernel\n",
    "def linear_kernel(x,y):\n",
    "    return x*y\n",
    "\n",
    "k = linear_kernel"
   ]
  },
  {
   "cell_type": "code",
   "execution_count": 8,
   "metadata": {},
   "outputs": [],
   "source": [
    "# choose points to sample\n",
    "N = 1000\n",
    "x = np.linspace(0,1,N)\n",
    "\n",
    "\n",
    "# build covariance matrix\n",
    "C = np.zeros((N, N))\n",
    "for i in range(N):\n",
    "    for j in range(N):\n",
    "        C[i][j] = k(x[i], x[j])"
   ]
  },
  {
   "cell_type": "code",
   "execution_count": 7,
   "metadata": {},
   "outputs": [
    {
     "data": {
      "text/plain": [
       "array([[0.00000000e+00, 0.00000000e+00, 0.00000000e+00, ...,\n",
       "        0.00000000e+00, 0.00000000e+00, 0.00000000e+00],\n",
       "       [0.00000000e+00, 1.00200300e-06, 2.00400601e-06, ...,\n",
       "        9.98996995e-04, 9.99998998e-04, 1.00100100e-03],\n",
       "       [0.00000000e+00, 2.00400601e-06, 4.00801202e-06, ...,\n",
       "        1.99799399e-03, 1.99999800e-03, 2.00200200e-03],\n",
       "       ...,\n",
       "       [0.00000000e+00, 9.98996995e-04, 1.99799399e-03, ...,\n",
       "        9.96000004e-01, 9.96999001e-01, 9.97997998e-01],\n",
       "       [0.00000000e+00, 9.99998998e-04, 1.99999800e-03, ...,\n",
       "        9.96999001e-01, 9.97999000e-01, 9.98998999e-01],\n",
       "       [0.00000000e+00, 1.00100100e-03, 2.00200200e-03, ...,\n",
       "        9.97997998e-01, 9.98998999e-01, 1.00000000e+00]])"
      ]
     },
     "execution_count": 7,
     "metadata": {},
     "output_type": "execute_result"
    }
   ],
   "source": []
  },
  {
   "cell_type": "code",
   "execution_count": null,
   "metadata": {},
   "outputs": [],
   "source": []
  }
 ],
 "metadata": {
  "kernelspec": {
   "display_name": "Python 3.7.4 64-bit",
   "language": "python",
   "name": "python37464bit092cce678b014a85b30a56f00adf5a4c"
  },
  "language_info": {
   "codemirror_mode": {
    "name": "ipython",
    "version": 3
   },
   "file_extension": ".py",
   "mimetype": "text/x-python",
   "name": "python",
   "nbconvert_exporter": "python",
   "pygments_lexer": "ipython3",
   "version": "3.7.4"
  }
 },
 "nbformat": 4,
 "nbformat_minor": 2
}
